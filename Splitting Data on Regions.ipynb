{
 "cells": [
  {
   "cell_type": "markdown",
   "id": "3139eb14-6dd9-46cc-a97f-529d07839cb2",
   "metadata": {},
   "source": [
    "Zu plottende Bündnisse sind:\n",
    "\n",
    "Blockchain, TDG, Campfire, H2Well\n",
    "\n",
    "\n",
    "### Blockchain Mittweida\n",
    "\n",
    "Die von uns hierfür definierte Region beschränkt sich nicht auf die Stadt Mittweida, sondern auf einen Radius von 15-20km um Mittweida (Abb. 1). Dieser Radius umfasst große Teile des ehemali-gen Landkreises Mittweida und damit den Kern der Region zwischen den Leistungszentren Dresden, Leipzig und Chemnitz. Auch Akteure von außerhalb, deren Partizipation einen Mehrwert für die Entwicklung der Blockchain-Schaufensterregion verspricht, werden eingebunden.\n",
    "\n",
    "#### GADM Kernregionen\n",
    "Mittelsachsen\n",
    "\n",
    "#### GADM Erweiterte Regionen\n",
    "\n",
    "\n",
    "### TDG\n",
    "\n",
    "Die TDG umfasst räumlich eine ca. 3.200km² große geografische Region, welche sich aus drei Landkreisen im Süden Sachsen-Anhalts (Stadt Halle, Saalekreis, Burgenlandkreis) sowie zwei Landkreisen im Norden Thü- ringens (Saale-Holzland-Kreis, Weimarer Land) konstituiert.\n",
    "\n",
    "#### GADM Kernregionen\n",
    "Anhalt-Bitterfeld;Mansfeld Südharz;Halle;Saalekreis;Burgenlandkreis\n",
    "\n",
    "#### GADM Erweiterte Regionen\n",
    "Weimarer Land;Saale-Holzland-Kreis\n",
    "\n",
    "\n",
    "### H2-Well\n",
    "\n",
    "Die durch die Bündnispartner des WIR!-Bündnisses H2-Well beschriebene Region Main-Elbe wird,\n",
    "wie in Abbildung 2 dargestellt, räumlich aufgespannt vom Main in Franken bis an die Elbe in\n",
    "Sachsen-Anhalt. Sie umfasst 33 Landkreise beziehungsweise kreisfreie Städte in den Bundesländern\n",
    "Thüringen, Bayern, Sachsen-Anhalt und Sachsen und bildet ein Scharnier zwischen den Metropolregionen\n",
    "Mitteldeutschland und Nürnberg.\n",
    "\n",
    "#### GADM Kernregionen\n",
    "Thüringen\n",
    "\n",
    "#### GADM Erweiterte Regionen\n",
    "\n",
    "\n",
    "### Campfire\n",
    "\n",
    "Die Region Nord-Ost stellt die geografische Konzentration von Unternehmen, Institutionen und  Verbänden  im  Ostseeraum  um  die  Städte  Rostock,  Stralsund,  Greifswald  und  der Uckermark dar, die in Bereichen der Nanotechnologie, der erneuerbaren Energien, der Rechts- und Politikwissenschaften sowie der maritimen Mobilität tätig sind.\n",
    "\n",
    "#### GADM Kernregionen\n",
    "Rostock;Rostock(Kreisfreie Stadt);Uckermark;Vorpommern-Greifswald;Mecklenburgische Seenplatte;Vorpommern-Rügen\n",
    "\n",
    "#### GADM Erweiterte Regionen"
   ]
  },
  {
   "cell_type": "code",
   "execution_count": 1,
   "id": "e02ba878-8cb1-45b2-b532-db69ce49a165",
   "metadata": {},
   "outputs": [],
   "source": [
    "# GADM REGIONEN sind GADM Version 4.1\n",
    "# Regionen\n",
    "kr_blockchain_gadm = [\"Mittelsachsen\"]\n",
    "kr_blockchain = [\"Mittelsachsen\"]   # Found in nuts\n",
    "er_blockchain = []\n",
    "\n",
    "kr_tdg_gadm = [\"Anhalt-Bitterfeld\", \"Mansfeld-Südharz\", \"Saalekreis\", \"Burgenlandkreis\", \"Halle(Saale)\"]\n",
    "kr_tdg = [\"Anhalt-Bitterfeld\", \"Mansfeld-Südharz\", \"Saalekreis\", \"Burgenlandkreis\", \"Halle (Saale), Kreisfreie Stadt\"] # Edited to be fund in NUTS\n",
    "er_tdg = [\"Weimarer Land\", \"Saale-Holzland-Kreis\"]\n",
    "\n",
    "kr_h2well_gadm = [\"Thüringen\"]\n",
    "kr_h2well = [\"Thüringen\"] # Found in NUTS\n",
    "er_h2well = []\n",
    "\n",
    "kr_campfire_gadm = [\"Rostock\", \"Rostock(KreisfreieStadt)\", \"Uckermark\", \"Vorpommern-Greifswald\", \"MecklenburgischeSeenplatte\", \"Vorpommern-Rügen\"]\n",
    "kr_campfire = [\"Landkreis Rostock\", \"Rostock, Kreisfreie Stadt\", \"Uckermark\", \"Vorpommern-Greifswald\", \"Mecklenburgische Seenplatte\", \"Vorpommern-Rügen\"] # Edited to be found in NUTS\n",
    "er_campfire = []"
   ]
  },
  {
   "cell_type": "code",
   "execution_count": 2,
   "id": "7a6ba6b3-bd59-4e42-8eb4-ed2b863fb2f1",
   "metadata": {},
   "outputs": [],
   "source": [
    "from collections import Counter\n",
    "import geopandas as gpd\n",
    "import json\n",
    "import csv\n",
    "import pandas as pd\n",
    "import numpy as np"
   ]
  },
  {
   "cell_type": "markdown",
   "id": "40970318-a943-46e3-84c0-eb42d1947c37",
   "metadata": {},
   "source": [
    "# Loading the PATSTAT Dataset"
   ]
  },
  {
   "cell_type": "code",
   "execution_count": 3,
   "id": "86295cbb-09f6-41db-8558-7809d7f4b4be",
   "metadata": {},
   "outputs": [
    {
     "ename": "FileNotFoundError",
     "evalue": "[Errno 2] No such file or directory: './data/data.csv'",
     "output_type": "error",
     "traceback": [
      "\u001b[0;31m---------------------------------------------------------------------------\u001b[0m",
      "\u001b[0;31mFileNotFoundError\u001b[0m                         Traceback (most recent call last)",
      "Cell \u001b[0;32mIn[3], line 3\u001b[0m\n\u001b[1;32m      1\u001b[0m data_suffix \u001b[38;5;241m=\u001b[39m \u001b[38;5;124m\"\u001b[39m\u001b[38;5;124m\"\u001b[39m\n\u001b[0;32m----> 3\u001b[0m data \u001b[38;5;241m=\u001b[39m \u001b[43mpd\u001b[49m\u001b[38;5;241;43m.\u001b[39;49m\u001b[43mread_csv\u001b[49m\u001b[43m(\u001b[49m\u001b[38;5;124;43mf\u001b[39;49m\u001b[38;5;124;43m\"\u001b[39;49m\u001b[38;5;124;43m./data/data\u001b[39;49m\u001b[38;5;132;43;01m{\u001b[39;49;00m\u001b[43mdata_suffix\u001b[49m\u001b[38;5;132;43;01m}\u001b[39;49;00m\u001b[38;5;124;43m.csv\u001b[39;49m\u001b[38;5;124;43m\"\u001b[39;49m\u001b[43m)\u001b[49m\n",
      "File \u001b[0;32m~/Projekte/WIR/venv/lib/python3.12/site-packages/pandas/io/parsers/readers.py:1026\u001b[0m, in \u001b[0;36mread_csv\u001b[0;34m(filepath_or_buffer, sep, delimiter, header, names, index_col, usecols, dtype, engine, converters, true_values, false_values, skipinitialspace, skiprows, skipfooter, nrows, na_values, keep_default_na, na_filter, verbose, skip_blank_lines, parse_dates, infer_datetime_format, keep_date_col, date_parser, date_format, dayfirst, cache_dates, iterator, chunksize, compression, thousands, decimal, lineterminator, quotechar, quoting, doublequote, escapechar, comment, encoding, encoding_errors, dialect, on_bad_lines, delim_whitespace, low_memory, memory_map, float_precision, storage_options, dtype_backend)\u001b[0m\n\u001b[1;32m   1013\u001b[0m kwds_defaults \u001b[38;5;241m=\u001b[39m _refine_defaults_read(\n\u001b[1;32m   1014\u001b[0m     dialect,\n\u001b[1;32m   1015\u001b[0m     delimiter,\n\u001b[0;32m   (...)\u001b[0m\n\u001b[1;32m   1022\u001b[0m     dtype_backend\u001b[38;5;241m=\u001b[39mdtype_backend,\n\u001b[1;32m   1023\u001b[0m )\n\u001b[1;32m   1024\u001b[0m kwds\u001b[38;5;241m.\u001b[39mupdate(kwds_defaults)\n\u001b[0;32m-> 1026\u001b[0m \u001b[38;5;28;01mreturn\u001b[39;00m \u001b[43m_read\u001b[49m\u001b[43m(\u001b[49m\u001b[43mfilepath_or_buffer\u001b[49m\u001b[43m,\u001b[49m\u001b[43m \u001b[49m\u001b[43mkwds\u001b[49m\u001b[43m)\u001b[49m\n",
      "File \u001b[0;32m~/Projekte/WIR/venv/lib/python3.12/site-packages/pandas/io/parsers/readers.py:620\u001b[0m, in \u001b[0;36m_read\u001b[0;34m(filepath_or_buffer, kwds)\u001b[0m\n\u001b[1;32m    617\u001b[0m _validate_names(kwds\u001b[38;5;241m.\u001b[39mget(\u001b[38;5;124m\"\u001b[39m\u001b[38;5;124mnames\u001b[39m\u001b[38;5;124m\"\u001b[39m, \u001b[38;5;28;01mNone\u001b[39;00m))\n\u001b[1;32m    619\u001b[0m \u001b[38;5;66;03m# Create the parser.\u001b[39;00m\n\u001b[0;32m--> 620\u001b[0m parser \u001b[38;5;241m=\u001b[39m \u001b[43mTextFileReader\u001b[49m\u001b[43m(\u001b[49m\u001b[43mfilepath_or_buffer\u001b[49m\u001b[43m,\u001b[49m\u001b[43m \u001b[49m\u001b[38;5;241;43m*\u001b[39;49m\u001b[38;5;241;43m*\u001b[39;49m\u001b[43mkwds\u001b[49m\u001b[43m)\u001b[49m\n\u001b[1;32m    622\u001b[0m \u001b[38;5;28;01mif\u001b[39;00m chunksize \u001b[38;5;129;01mor\u001b[39;00m iterator:\n\u001b[1;32m    623\u001b[0m     \u001b[38;5;28;01mreturn\u001b[39;00m parser\n",
      "File \u001b[0;32m~/Projekte/WIR/venv/lib/python3.12/site-packages/pandas/io/parsers/readers.py:1620\u001b[0m, in \u001b[0;36mTextFileReader.__init__\u001b[0;34m(self, f, engine, **kwds)\u001b[0m\n\u001b[1;32m   1617\u001b[0m     \u001b[38;5;28mself\u001b[39m\u001b[38;5;241m.\u001b[39moptions[\u001b[38;5;124m\"\u001b[39m\u001b[38;5;124mhas_index_names\u001b[39m\u001b[38;5;124m\"\u001b[39m] \u001b[38;5;241m=\u001b[39m kwds[\u001b[38;5;124m\"\u001b[39m\u001b[38;5;124mhas_index_names\u001b[39m\u001b[38;5;124m\"\u001b[39m]\n\u001b[1;32m   1619\u001b[0m \u001b[38;5;28mself\u001b[39m\u001b[38;5;241m.\u001b[39mhandles: IOHandles \u001b[38;5;241m|\u001b[39m \u001b[38;5;28;01mNone\u001b[39;00m \u001b[38;5;241m=\u001b[39m \u001b[38;5;28;01mNone\u001b[39;00m\n\u001b[0;32m-> 1620\u001b[0m \u001b[38;5;28mself\u001b[39m\u001b[38;5;241m.\u001b[39m_engine \u001b[38;5;241m=\u001b[39m \u001b[38;5;28;43mself\u001b[39;49m\u001b[38;5;241;43m.\u001b[39;49m\u001b[43m_make_engine\u001b[49m\u001b[43m(\u001b[49m\u001b[43mf\u001b[49m\u001b[43m,\u001b[49m\u001b[43m \u001b[49m\u001b[38;5;28;43mself\u001b[39;49m\u001b[38;5;241;43m.\u001b[39;49m\u001b[43mengine\u001b[49m\u001b[43m)\u001b[49m\n",
      "File \u001b[0;32m~/Projekte/WIR/venv/lib/python3.12/site-packages/pandas/io/parsers/readers.py:1880\u001b[0m, in \u001b[0;36mTextFileReader._make_engine\u001b[0;34m(self, f, engine)\u001b[0m\n\u001b[1;32m   1878\u001b[0m     \u001b[38;5;28;01mif\u001b[39;00m \u001b[38;5;124m\"\u001b[39m\u001b[38;5;124mb\u001b[39m\u001b[38;5;124m\"\u001b[39m \u001b[38;5;129;01mnot\u001b[39;00m \u001b[38;5;129;01min\u001b[39;00m mode:\n\u001b[1;32m   1879\u001b[0m         mode \u001b[38;5;241m+\u001b[39m\u001b[38;5;241m=\u001b[39m \u001b[38;5;124m\"\u001b[39m\u001b[38;5;124mb\u001b[39m\u001b[38;5;124m\"\u001b[39m\n\u001b[0;32m-> 1880\u001b[0m \u001b[38;5;28mself\u001b[39m\u001b[38;5;241m.\u001b[39mhandles \u001b[38;5;241m=\u001b[39m \u001b[43mget_handle\u001b[49m\u001b[43m(\u001b[49m\n\u001b[1;32m   1881\u001b[0m \u001b[43m    \u001b[49m\u001b[43mf\u001b[49m\u001b[43m,\u001b[49m\n\u001b[1;32m   1882\u001b[0m \u001b[43m    \u001b[49m\u001b[43mmode\u001b[49m\u001b[43m,\u001b[49m\n\u001b[1;32m   1883\u001b[0m \u001b[43m    \u001b[49m\u001b[43mencoding\u001b[49m\u001b[38;5;241;43m=\u001b[39;49m\u001b[38;5;28;43mself\u001b[39;49m\u001b[38;5;241;43m.\u001b[39;49m\u001b[43moptions\u001b[49m\u001b[38;5;241;43m.\u001b[39;49m\u001b[43mget\u001b[49m\u001b[43m(\u001b[49m\u001b[38;5;124;43m\"\u001b[39;49m\u001b[38;5;124;43mencoding\u001b[39;49m\u001b[38;5;124;43m\"\u001b[39;49m\u001b[43m,\u001b[49m\u001b[43m \u001b[49m\u001b[38;5;28;43;01mNone\u001b[39;49;00m\u001b[43m)\u001b[49m\u001b[43m,\u001b[49m\n\u001b[1;32m   1884\u001b[0m \u001b[43m    \u001b[49m\u001b[43mcompression\u001b[49m\u001b[38;5;241;43m=\u001b[39;49m\u001b[38;5;28;43mself\u001b[39;49m\u001b[38;5;241;43m.\u001b[39;49m\u001b[43moptions\u001b[49m\u001b[38;5;241;43m.\u001b[39;49m\u001b[43mget\u001b[49m\u001b[43m(\u001b[49m\u001b[38;5;124;43m\"\u001b[39;49m\u001b[38;5;124;43mcompression\u001b[39;49m\u001b[38;5;124;43m\"\u001b[39;49m\u001b[43m,\u001b[49m\u001b[43m \u001b[49m\u001b[38;5;28;43;01mNone\u001b[39;49;00m\u001b[43m)\u001b[49m\u001b[43m,\u001b[49m\n\u001b[1;32m   1885\u001b[0m \u001b[43m    \u001b[49m\u001b[43mmemory_map\u001b[49m\u001b[38;5;241;43m=\u001b[39;49m\u001b[38;5;28;43mself\u001b[39;49m\u001b[38;5;241;43m.\u001b[39;49m\u001b[43moptions\u001b[49m\u001b[38;5;241;43m.\u001b[39;49m\u001b[43mget\u001b[49m\u001b[43m(\u001b[49m\u001b[38;5;124;43m\"\u001b[39;49m\u001b[38;5;124;43mmemory_map\u001b[39;49m\u001b[38;5;124;43m\"\u001b[39;49m\u001b[43m,\u001b[49m\u001b[43m \u001b[49m\u001b[38;5;28;43;01mFalse\u001b[39;49;00m\u001b[43m)\u001b[49m\u001b[43m,\u001b[49m\n\u001b[1;32m   1886\u001b[0m \u001b[43m    \u001b[49m\u001b[43mis_text\u001b[49m\u001b[38;5;241;43m=\u001b[39;49m\u001b[43mis_text\u001b[49m\u001b[43m,\u001b[49m\n\u001b[1;32m   1887\u001b[0m \u001b[43m    \u001b[49m\u001b[43merrors\u001b[49m\u001b[38;5;241;43m=\u001b[39;49m\u001b[38;5;28;43mself\u001b[39;49m\u001b[38;5;241;43m.\u001b[39;49m\u001b[43moptions\u001b[49m\u001b[38;5;241;43m.\u001b[39;49m\u001b[43mget\u001b[49m\u001b[43m(\u001b[49m\u001b[38;5;124;43m\"\u001b[39;49m\u001b[38;5;124;43mencoding_errors\u001b[39;49m\u001b[38;5;124;43m\"\u001b[39;49m\u001b[43m,\u001b[49m\u001b[43m \u001b[49m\u001b[38;5;124;43m\"\u001b[39;49m\u001b[38;5;124;43mstrict\u001b[39;49m\u001b[38;5;124;43m\"\u001b[39;49m\u001b[43m)\u001b[49m\u001b[43m,\u001b[49m\n\u001b[1;32m   1888\u001b[0m \u001b[43m    \u001b[49m\u001b[43mstorage_options\u001b[49m\u001b[38;5;241;43m=\u001b[39;49m\u001b[38;5;28;43mself\u001b[39;49m\u001b[38;5;241;43m.\u001b[39;49m\u001b[43moptions\u001b[49m\u001b[38;5;241;43m.\u001b[39;49m\u001b[43mget\u001b[49m\u001b[43m(\u001b[49m\u001b[38;5;124;43m\"\u001b[39;49m\u001b[38;5;124;43mstorage_options\u001b[39;49m\u001b[38;5;124;43m\"\u001b[39;49m\u001b[43m,\u001b[49m\u001b[43m \u001b[49m\u001b[38;5;28;43;01mNone\u001b[39;49;00m\u001b[43m)\u001b[49m\u001b[43m,\u001b[49m\n\u001b[1;32m   1889\u001b[0m \u001b[43m\u001b[49m\u001b[43m)\u001b[49m\n\u001b[1;32m   1890\u001b[0m \u001b[38;5;28;01massert\u001b[39;00m \u001b[38;5;28mself\u001b[39m\u001b[38;5;241m.\u001b[39mhandles \u001b[38;5;129;01mis\u001b[39;00m \u001b[38;5;129;01mnot\u001b[39;00m \u001b[38;5;28;01mNone\u001b[39;00m\n\u001b[1;32m   1891\u001b[0m f \u001b[38;5;241m=\u001b[39m \u001b[38;5;28mself\u001b[39m\u001b[38;5;241m.\u001b[39mhandles\u001b[38;5;241m.\u001b[39mhandle\n",
      "File \u001b[0;32m~/Projekte/WIR/venv/lib/python3.12/site-packages/pandas/io/common.py:873\u001b[0m, in \u001b[0;36mget_handle\u001b[0;34m(path_or_buf, mode, encoding, compression, memory_map, is_text, errors, storage_options)\u001b[0m\n\u001b[1;32m    868\u001b[0m \u001b[38;5;28;01melif\u001b[39;00m \u001b[38;5;28misinstance\u001b[39m(handle, \u001b[38;5;28mstr\u001b[39m):\n\u001b[1;32m    869\u001b[0m     \u001b[38;5;66;03m# Check whether the filename is to be opened in binary mode.\u001b[39;00m\n\u001b[1;32m    870\u001b[0m     \u001b[38;5;66;03m# Binary mode does not support 'encoding' and 'newline'.\u001b[39;00m\n\u001b[1;32m    871\u001b[0m     \u001b[38;5;28;01mif\u001b[39;00m ioargs\u001b[38;5;241m.\u001b[39mencoding \u001b[38;5;129;01mand\u001b[39;00m \u001b[38;5;124m\"\u001b[39m\u001b[38;5;124mb\u001b[39m\u001b[38;5;124m\"\u001b[39m \u001b[38;5;129;01mnot\u001b[39;00m \u001b[38;5;129;01min\u001b[39;00m ioargs\u001b[38;5;241m.\u001b[39mmode:\n\u001b[1;32m    872\u001b[0m         \u001b[38;5;66;03m# Encoding\u001b[39;00m\n\u001b[0;32m--> 873\u001b[0m         handle \u001b[38;5;241m=\u001b[39m \u001b[38;5;28;43mopen\u001b[39;49m\u001b[43m(\u001b[49m\n\u001b[1;32m    874\u001b[0m \u001b[43m            \u001b[49m\u001b[43mhandle\u001b[49m\u001b[43m,\u001b[49m\n\u001b[1;32m    875\u001b[0m \u001b[43m            \u001b[49m\u001b[43mioargs\u001b[49m\u001b[38;5;241;43m.\u001b[39;49m\u001b[43mmode\u001b[49m\u001b[43m,\u001b[49m\n\u001b[1;32m    876\u001b[0m \u001b[43m            \u001b[49m\u001b[43mencoding\u001b[49m\u001b[38;5;241;43m=\u001b[39;49m\u001b[43mioargs\u001b[49m\u001b[38;5;241;43m.\u001b[39;49m\u001b[43mencoding\u001b[49m\u001b[43m,\u001b[49m\n\u001b[1;32m    877\u001b[0m \u001b[43m            \u001b[49m\u001b[43merrors\u001b[49m\u001b[38;5;241;43m=\u001b[39;49m\u001b[43merrors\u001b[49m\u001b[43m,\u001b[49m\n\u001b[1;32m    878\u001b[0m \u001b[43m            \u001b[49m\u001b[43mnewline\u001b[49m\u001b[38;5;241;43m=\u001b[39;49m\u001b[38;5;124;43m\"\u001b[39;49m\u001b[38;5;124;43m\"\u001b[39;49m\u001b[43m,\u001b[49m\n\u001b[1;32m    879\u001b[0m \u001b[43m        \u001b[49m\u001b[43m)\u001b[49m\n\u001b[1;32m    880\u001b[0m     \u001b[38;5;28;01melse\u001b[39;00m:\n\u001b[1;32m    881\u001b[0m         \u001b[38;5;66;03m# Binary mode\u001b[39;00m\n\u001b[1;32m    882\u001b[0m         handle \u001b[38;5;241m=\u001b[39m \u001b[38;5;28mopen\u001b[39m(handle, ioargs\u001b[38;5;241m.\u001b[39mmode)\n",
      "\u001b[0;31mFileNotFoundError\u001b[0m: [Errno 2] No such file or directory: './data/data.csv'"
     ]
    }
   ],
   "source": [
    "data_suffix = \"\"\n",
    "\n",
    "data = pd.read_csv(f\"./data/data{data_suffix}.csv\")\n"
   ]
  },
  {
   "cell_type": "code",
   "execution_count": 12,
   "id": "9b568127-8701-4e85-8faa-901c6e953ec4",
   "metadata": {},
   "outputs": [
    {
     "data": {
      "text/plain": [
       "Counter({nan: 2623199,\n",
       "         'COMPANY': 1196911,\n",
       "         'INDIVIDUAL': 901804,\n",
       "         'UNKNOWN': 145373,\n",
       "         'GOV NON-PROFIT': 33488,\n",
       "         'UNIVERSITY': 16251,\n",
       "         'COMPANY GOV NON-PROFIT': 492,\n",
       "         'HOSPITAL': 57,\n",
       "         'COMPANY HOSPITAL': 38,\n",
       "         'COMPANY UNIVERSITY': 38,\n",
       "         'GOV NON-PROFIT UNIVERSITY': 14,\n",
       "         'COMPANY GOV NON-PROFIT UNIVERSITY': 1})"
      ]
     },
     "execution_count": 12,
     "metadata": {},
     "output_type": "execute_result"
    }
   ],
   "source": [
    "x = data[\"psn_sector\"]\n",
    "\n",
    "c = Counter(x)\n",
    "c"
   ]
  },
  {
   "cell_type": "markdown",
   "id": "9f770a51-c05a-4d05-9a35-5a8e7a9cee0e",
   "metadata": {},
   "source": [
    "# Cleaning the Data"
   ]
  },
  {
   "cell_type": "code",
   "execution_count": 4,
   "id": "ff21c736-ac2d-46ac-b688-b8d46a65de55",
   "metadata": {},
   "outputs": [
    {
     "data": {
      "text/plain": [
       "3609213"
      ]
     },
     "execution_count": 4,
     "metadata": {},
     "output_type": "execute_result"
    }
   ],
   "source": [
    "data = data.dropna(subset=[\"person_address\"])\n",
    "len(data)"
   ]
  },
  {
   "cell_type": "markdown",
   "id": "9e137609-7145-419b-aefd-442e6020baf9",
   "metadata": {},
   "source": [
    "# Matching Nuts to GADM regions"
   ]
  },
  {
   "cell_type": "code",
   "execution_count": 5,
   "id": "adcaca89-ea3f-4997-a51c-59648237ac00",
   "metadata": {},
   "outputs": [],
   "source": [
    "nuts_translation = pd.read_csv(\"./data/nuts_translation.csv\")\n",
    "label_to_nuts = {label: nuts for nuts, label in zip(nuts_translation[\"nuts\"], nuts_translation[\"nuts_label\"])}\n",
    "nuts_to_label = {v: k for k, v in label_to_nuts.items()}\n",
    "label_to_nuts_lvl = {label: lvl for lvl, label in zip(nuts_translation[\"nuts_level\"], nuts_translation[\"nuts_label\"])}"
   ]
  },
  {
   "cell_type": "code",
   "execution_count": 6,
   "id": "e5d36c52-7a0d-4877-a395-839cc0e5a969",
   "metadata": {},
   "outputs": [
    {
     "name": "stdout",
     "output_type": "stream",
     "text": [
      "0 DED43 Mittelsachsen\n"
     ]
    }
   ],
   "source": [
    "# Blockchain\n",
    "blockchain_nuts = []\n",
    "for i, reg in enumerate(kr_blockchain):\n",
    "    if reg in label_to_nuts.keys():\n",
    "        print(i, label_to_nuts[reg], reg)\n",
    "        blockchain_nuts.append(label_to_nuts[reg])\n",
    "    else:\n",
    "        print(\"!!!\", reg, \"Not in NUTS\")\n"
   ]
  },
  {
   "cell_type": "code",
   "execution_count": 7,
   "id": "73e6e6bc-4bf0-491b-a99d-2251f2dc5262",
   "metadata": {},
   "outputs": [
    {
     "name": "stdout",
     "output_type": "stream",
     "text": [
      "0 DEE05 Anhalt-Bitterfeld\n",
      "1 DEE0A Mansfeld-Südharz\n",
      "2 DEE0B Saalekreis\n",
      "3 DEE08 Burgenlandkreis\n",
      "4 DEE02 Halle (Saale), Kreisfreie Stadt\n"
     ]
    }
   ],
   "source": [
    "# TDG\n",
    "tdg_nuts = []\n",
    "for i, reg in enumerate(kr_tdg):\n",
    "    if reg in label_to_nuts.keys():\n",
    "        print(i, label_to_nuts[reg], reg)\n",
    "        tdg_nuts.append(label_to_nuts[reg])\n",
    "    else:\n",
    "        print(\"!!!\", reg, \"Not in NUTS\")"
   ]
  },
  {
   "cell_type": "code",
   "execution_count": 8,
   "id": "35135aab-433a-4a3c-8e2b-a43783f22733",
   "metadata": {},
   "outputs": [
    {
     "name": "stdout",
     "output_type": "stream",
     "text": [
      "0 DEG0 Thüringen\n"
     ]
    }
   ],
   "source": [
    "# h2well\n",
    "h2well_nuts = []\n",
    "for i, reg in enumerate(kr_h2well):\n",
    "    if reg in label_to_nuts.keys():\n",
    "        print(i, label_to_nuts[reg], reg)\n",
    "        h2well_nuts.append(label_to_nuts[reg])\n",
    "    else:\n",
    "        print(\"!!!\", reg, \"Not in NUTS\")"
   ]
  },
  {
   "cell_type": "code",
   "execution_count": 9,
   "id": "1b4f4cb9-136f-424f-8bc0-7d217599312e",
   "metadata": {},
   "outputs": [
    {
     "name": "stdout",
     "output_type": "stream",
     "text": [
      "0 DE80K Landkreis Rostock\n",
      "1 DE803 Rostock, Kreisfreie Stadt\n",
      "2 DE40I Uckermark\n",
      "3 DE80N Vorpommern-Greifswald\n",
      "4 DE80J Mecklenburgische Seenplatte\n",
      "5 DE80L Vorpommern-Rügen\n"
     ]
    }
   ],
   "source": [
    "# campfire\n",
    "campfire_nuts = []\n",
    "for i, reg in enumerate(kr_campfire):\n",
    "    if reg in label_to_nuts.keys():\n",
    "        print(i, label_to_nuts[reg], reg)\n",
    "        campfire_nuts.append(label_to_nuts[reg])\n",
    "    else:\n",
    "        print(\"!!!\", reg, \"Not in NUTS\")"
   ]
  },
  {
   "cell_type": "code",
   "execution_count": 10,
   "id": "59871213-bbb7-4686-867b-ed190776aede",
   "metadata": {},
   "outputs": [
    {
     "name": "stdout",
     "output_type": "stream",
     "text": [
      "Rosenheim, Kreisfreie Stadt 3\n",
      "Rosenheim, Landkreis 3\n",
      "Rostock, Kreisfreie Stadt 3\n",
      "Landkreis Rostock 3\n",
      "Caithness & Sutherland and Ross & Cromarty 3\n"
     ]
    }
   ],
   "source": [
    "# Manual Matching\n",
    "\n",
    "for k in label_to_nuts.keys():\n",
    "    if \"Ros\" in k:\n",
    "        print(k, label_to_nuts_lvl[k])"
   ]
  },
  {
   "cell_type": "code",
   "execution_count": 11,
   "id": "5ed706cf-3032-40ca-b805-beb0975df999",
   "metadata": {},
   "outputs": [
    {
     "name": "stdout",
     "output_type": "stream",
     "text": [
      "Blockchain 2083 TGD 4239 h2well 0 campfire 4071\n"
     ]
    }
   ],
   "source": [
    "# Splitting the Dataset based on Regions:\n",
    "blockchain_ds = data[data['nuts'].isin(blockchain_nuts)]\n",
    "tdg_ds = data[data['nuts'].isin(tdg_nuts)]\n",
    "h2well_ds = data[data['nuts'].isin(h2well_nuts)]\n",
    "campfire_ds = data[data['nuts'].isin(campfire_nuts)]\n",
    "\n",
    "print(\"Blockchain\", len(blockchain_ds), \"TGD\", len(tdg_ds), \"h2well\", len(h2well_ds), \"campfire\", len(campfire_ds))"
   ]
  },
  {
   "cell_type": "markdown",
   "id": "e54e8319-c5f2-4c30-a241-32b0bb42d9c1",
   "metadata": {},
   "source": [
    "### Most Datapoints are not correctly labeled to a NUTS region"
   ]
  },
  {
   "cell_type": "markdown",
   "id": "78790b3d-c6a0-47d4-8994-e37e2f24ddec",
   "metadata": {},
   "source": [
    "# Matching City to GADM Regions"
   ]
  },
  {
   "cell_type": "code",
   "execution_count": 12,
   "id": "670435ad-6ca2-4ac4-9ea8-9a6b556e2fb4",
   "metadata": {},
   "outputs": [],
   "source": [
    "gadm_2 = gpd.read_file(\"./data/gadm41_DEU_2.json\")\n",
    "gadm_3 = gpd.read_file(\"./data/gadm41_DEU_3.json\")\n",
    "gadm_4 = gpd.read_file(\"./data/gadm41_DEU_4.json\")"
   ]
  },
  {
   "cell_type": "markdown",
   "id": "90c2b19b-5016-48d3-8218-2056d19673f9",
   "metadata": {},
   "source": [
    "### Extracting City-Names from Addresses"
   ]
  },
  {
   "cell_type": "code",
   "execution_count": 13,
   "id": "19efe373-fc40-4da3-bcd1-801fded0b753",
   "metadata": {},
   "outputs": [],
   "source": [
    "def extract_city(addr): \n",
    "    if not isinstance(addr, str):\n",
    "        return None\n",
    "    addr = addr.lower()\n",
    "    \n",
    "    # splitting the address\n",
    "    addr = addr.split(',')[-1]\n",
    "    addr = addr.split(';')[-1]\n",
    "\n",
    "    # removing the plz\n",
    "    for i in \"0123456789\":\n",
    "        addr = addr.replace(i, \"\")\n",
    "\n",
    "    # removing other junk from address\n",
    "    addr = addr.replace(\"d-\", \"\")\n",
    "    addr = addr.replace(\"w-\", \"\")\n",
    "    addr = addr.replace(\"o-\", \"\")\n",
    "    addr = addr.replace(\"ch-\", \"\")\n",
    "    addr = addr.replace(\"(de)\", \"\")\n",
    "    addr = addr.replace(\"postfach\", \"\")\n",
    "\n",
    "    # Removing saces \n",
    "    city = addr.strip()\n",
    "    return city"
   ]
  },
  {
   "cell_type": "code",
   "execution_count": 14,
   "id": "cfb63aa1-c1a8-4597-9b57-2f086c790d42",
   "metadata": {},
   "outputs": [],
   "source": [
    "data[\"city\"] = data[\"person_address\"].apply(extract_city)"
   ]
  },
  {
   "cell_type": "markdown",
   "id": "81ecc817-f465-412e-aceb-b5da51e907e1",
   "metadata": {},
   "source": [
    "### Creating GADM dicts for the regions"
   ]
  },
  {
   "cell_type": "code",
   "execution_count": 15,
   "id": "a1b810f8-7d17-4722-bc50-83f95fb3d641",
   "metadata": {},
   "outputs": [
    {
     "data": {
      "text/plain": [
       "('Mittelsachsen', ['Mittelsachsen'])"
      ]
     },
     "execution_count": 15,
     "metadata": {},
     "output_type": "execute_result"
    }
   ],
   "source": [
    "# Blockchain\n",
    "blockchain_gadm = gadm_4[gadm_4[\"NAME_2\"].isin(kr_blockchain_gadm)]\n",
    "blockchain_gadm[\"NAME_2\"].unique().item(), kr_blockchain_gadm  # all regions are found"
   ]
  },
  {
   "cell_type": "code",
   "execution_count": 16,
   "id": "13088972-05a6-4824-a7a9-f53217b9a315",
   "metadata": {},
   "outputs": [],
   "source": [
    "blockchain_gadm_dict4 = {city.lower(): gid for city, gid in zip(blockchain_gadm[\"NAME_4\"], blockchain_gadm[\"GID_4\"])}\n",
    "blockchain_gadm_dict3 = {city.lower(): gid for city, gid in zip(blockchain_gadm[\"NAME_3\"], blockchain_gadm[\"GID_3\"])}\n",
    "blockchain_gadm_dict2 = {city.lower(): gid for city, gid in zip(blockchain_gadm[\"NAME_2\"], blockchain_gadm[\"GID_2\"])}\n",
    "blockchain_gadm_dict1 = {city.lower(): gid for city, gid in zip(blockchain_gadm[\"NAME_1\"], blockchain_gadm[\"GID_1\"])}"
   ]
  },
  {
   "cell_type": "code",
   "execution_count": 17,
   "id": "40d1794c-66e4-413c-94fe-5546ee095227",
   "metadata": {},
   "outputs": [
    {
     "data": {
      "text/plain": [
       "(array(['Anhalt-Bitterfeld', 'Burgenlandkreis', 'Halle(Saale)',\n",
       "        'Mansfeld-Südharz', 'Saalekreis'], dtype=object),\n",
       " ['Anhalt-Bitterfeld',\n",
       "  'Mansfeld-Südharz',\n",
       "  'Saalekreis',\n",
       "  'Burgenlandkreis',\n",
       "  'Halle(Saale)'])"
      ]
     },
     "execution_count": 17,
     "metadata": {},
     "output_type": "execute_result"
    }
   ],
   "source": [
    "# tdg\n",
    "tdg_gadm = gadm_4[gadm_4[\"NAME_2\"].isin(kr_tdg_gadm)]\n",
    "tdg_gadm[\"NAME_2\"].unique(), kr_tdg_gadm  # Halle not found manual matching to Halle(Saale)"
   ]
  },
  {
   "cell_type": "markdown",
   "id": "d114a6a1-f31f-423a-bf64-dc4b8a58779b",
   "metadata": {},
   "source": [
    "##### manually matching Halle\n",
    "for name in gadm_4[\"NAME_2\"].unique:\n",
    "    if \"ha\" in name.lower():\n",
    "        print(name)"
   ]
  },
  {
   "cell_type": "code",
   "execution_count": 18,
   "id": "7641ed1b-3cad-4ae0-a38b-2b2e3b959519",
   "metadata": {},
   "outputs": [],
   "source": [
    "tdg_gadm_dict4 = {city.lower(): gid for city, gid in zip(tdg_gadm[\"NAME_4\"], tdg_gadm[\"GID_4\"])}\n",
    "tdg_gadm_dict3 = {city.lower(): gid for city, gid in zip(tdg_gadm[\"NAME_3\"], tdg_gadm[\"GID_3\"])}\n",
    "tdg_gadm_dict2 = {city.lower(): gid for city, gid in zip(tdg_gadm[\"NAME_2\"], tdg_gadm[\"GID_2\"])}\n",
    "tdg_gadm_dict1 = {city.lower(): gid for city, gid in zip(tdg_gadm[\"NAME_1\"], tdg_gadm[\"GID_1\"])}"
   ]
  },
  {
   "cell_type": "code",
   "execution_count": 19,
   "id": "5cb3ac78-de96-4781-818b-3bfa83255845",
   "metadata": {},
   "outputs": [
    {
     "data": {
      "text/plain": [
       "(array(['Thüringen'], dtype=object), ['Thüringen'])"
      ]
     },
     "execution_count": 19,
     "metadata": {},
     "output_type": "execute_result"
    }
   ],
   "source": [
    "# h2well\n",
    "h2well_gadm = gadm_4[gadm_4[\"NAME_1\"].isin(kr_h2well_gadm)]\n",
    "h2well_gadm[\"NAME_1\"].unique(), kr_h2well_gadm  # Thüringen not found in gadm_lvl_2 but in gadm lvl 1"
   ]
  },
  {
   "cell_type": "code",
   "execution_count": 20,
   "id": "7a716935-fcbb-422d-b5ed-fca043a28555",
   "metadata": {},
   "outputs": [],
   "source": [
    "h2well_gadm_dict4 = {city.lower(): gid for city, gid in zip(h2well_gadm[\"NAME_4\"], h2well_gadm[\"GID_4\"])}\n",
    "h2well_gadm_dict3 = {city.lower(): gid for city, gid in zip(h2well_gadm[\"NAME_3\"], h2well_gadm[\"GID_3\"])}\n",
    "h2well_gadm_dict2 = {city.lower(): gid for city, gid in zip(h2well_gadm[\"NAME_2\"], h2well_gadm[\"GID_2\"])}\n",
    "h2well_gadm_dict1 = {city.lower(): gid for city, gid in zip(h2well_gadm[\"NAME_1\"], h2well_gadm[\"GID_1\"])}"
   ]
  },
  {
   "cell_type": "code",
   "execution_count": 21,
   "id": "89886070-3c87-4f1d-923a-371b0dc78ea8",
   "metadata": {},
   "outputs": [
    {
     "data": {
      "text/plain": [
       "(array(['Uckermark', 'MecklenburgischeSeenplatte', 'Rostock',\n",
       "        'Rostock(KreisfreieStadt)', 'Vorpommern-Greifswald',\n",
       "        'Vorpommern-Rügen'], dtype=object),\n",
       " ['Rostock',\n",
       "  'Rostock(KreisfreieStadt)',\n",
       "  'Uckermark',\n",
       "  'Vorpommern-Greifswald',\n",
       "  'MecklenburgischeSeenplatte',\n",
       "  'Vorpommern-Rügen'])"
      ]
     },
     "execution_count": 21,
     "metadata": {},
     "output_type": "execute_result"
    }
   ],
   "source": [
    "# campfire\n",
    "campfire_gadm = gadm_4[gadm_4[\"NAME_2\"].isin(kr_campfire_gadm)]\n",
    "campfire_gadm[\"NAME_2\"].unique(), kr_campfire_gadm  # 'Rostock(Kreisfreie Stadt)', 'Mecklenburgische Seenplatte' not found in GADM-LVL2 manual matching to 'MecklenburgischeSeenplatte' and 'Rostock(KreisfreieStadt)'"
   ]
  },
  {
   "cell_type": "code",
   "execution_count": 22,
   "id": "53351b24-7a75-4a76-80ca-c8b072791a91",
   "metadata": {},
   "outputs": [],
   "source": [
    "campfire_gadm_dict4 = {city.lower(): gid for city, gid in zip(campfire_gadm[\"NAME_4\"], campfire_gadm[\"GID_4\"])}\n",
    "campfire_gadm_dict3 = {city.lower(): gid for city, gid in zip(campfire_gadm[\"NAME_3\"], campfire_gadm[\"GID_3\"])}\n",
    "campfire_gadm_dict2 = {city.lower(): gid for city, gid in zip(campfire_gadm[\"NAME_2\"], campfire_gadm[\"GID_2\"])}\n",
    "campfire_gadm_dict1 = {city.lower(): gid for city, gid in zip(campfire_gadm[\"NAME_1\"], campfire_gadm[\"GID_1\"])}"
   ]
  },
  {
   "cell_type": "code",
   "execution_count": 23,
   "id": "980bf610-7505-44ea-85cc-4204f50a63ee",
   "metadata": {},
   "outputs": [],
   "source": [
    "def city_to_gadm(city, dicts, level=4):\n",
    "    level -= 1\n",
    "    #base case\n",
    "    if level < 0:\n",
    "        return None, None\n",
    "    try:\n",
    "        gadm = dicts[level][city]\n",
    "        return gadm, level + 1\n",
    "    except KeyError:\n",
    "        # Go one higher level\n",
    "        return city_to_gadm(city, dicts, level)\n",
    "    "
   ]
  },
  {
   "cell_type": "code",
   "execution_count": 24,
   "id": "64186afb-5d24-43ea-a459-2ae2ad9247ad",
   "metadata": {},
   "outputs": [],
   "source": [
    "# Apply city_to_gadm\n",
    "blockchain_data = data[data[\"city\"].apply(lambda x: city_to_gadm(x, [blockchain_gadm_dict1, blockchain_gadm_dict2, blockchain_gadm_dict3, blockchain_gadm_dict4], 4)[0] is not None)]\n",
    "tdg_data = data[data[\"city\"].apply(lambda x: city_to_gadm(x, [tdg_gadm_dict1, tdg_gadm_dict2, tdg_gadm_dict3, tdg_gadm_dict4], 4)[0] is not None)]\n",
    "h2well_data = data[data[\"city\"].apply(lambda x: city_to_gadm(x, [h2well_gadm_dict1, h2well_gadm_dict2, h2well_gadm_dict3, h2well_gadm_dict4], 4)[0] is not None)]\n",
    "campfire_data = data[data[\"city\"].apply(lambda x: city_to_gadm(x, [campfire_gadm_dict1, campfire_gadm_dict2, campfire_gadm_dict3, campfire_gadm_dict4], 4)[0] is not None)]"
   ]
  },
  {
   "cell_type": "code",
   "execution_count": 25,
   "id": "85cac7b3-c74e-42af-9dc9-5f1eed6ae733",
   "metadata": {},
   "outputs": [
    {
     "data": {
      "text/plain": [
       "(5488, 2974, 53563, 11394)"
      ]
     },
     "execution_count": 25,
     "metadata": {},
     "output_type": "execute_result"
    }
   ],
   "source": [
    "len(blockchain_data), len(tdg_data), len(h2well_data), len(campfire_data)\n",
    "# Significantly more results than with the nuts method"
   ]
  },
  {
   "cell_type": "markdown",
   "id": "2d2a1c49-982b-40b8-b8f2-b68180de62b0",
   "metadata": {},
   "source": [
    "### Saving gadm_dicts\n"
   ]
  },
  {
   "cell_type": "code",
   "execution_count": 26,
   "id": "15dea196-ce3c-461c-a189-f40dcd6bf153",
   "metadata": {},
   "outputs": [],
   "source": [
    "import pickle as pk\n",
    "\n",
    "with open(f\"./data/blockchain_gadm_dict1{data_suffix}.pk\", \"wb\") as f:\n",
    "    pk.dump(blockchain_gadm_dict1, f)\n",
    "with open(f\"./data/blockchain_gadm_dict2{data_suffix}.pk\", \"wb\") as f:\n",
    "    pk.dump(blockchain_gadm_dict2, f)\n",
    "with open(f\"./data/blockchain_gadm_dict3{data_suffix}.pk\", \"wb\") as f:\n",
    "    pk.dump(blockchain_gadm_dict3, f)\n",
    "with open(f\"./data/blockchain_gadm_dict4{data_suffix}.pk\", \"wb\") as f:\n",
    "    pk.dump(blockchain_gadm_dict4, f)\n",
    "\n",
    "with open(f\"./data/tdg_gadm_dict1{data_suffix}.pk\", \"wb\") as f:\n",
    "    pk.dump(tdg_gadm_dict1, f)\n",
    "with open(f\"./data/tdg_gadm_dict2{data_suffix}.pk\", \"wb\") as f:\n",
    "    pk.dump(tdg_gadm_dict2, f)\n",
    "with open(f\"./data/tdg_gadm_dict3{data_suffix}.pk\", \"wb\") as f:\n",
    "    pk.dump(tdg_gadm_dict3, f)\n",
    "with open(f\"./data/tdg_gadm_dict4{data_suffix}.pk\", \"wb\") as f:\n",
    "    pk.dump(tdg_gadm_dict4, f)\n",
    "\n",
    "with open(f\"./data/campfire_gadm_dict1{data_suffix}.pk\", \"wb\") as f:\n",
    "    pk.dump(campfire_gadm_dict1, f)\n",
    "with open(f\"./data/campfire_gadm_dict2{data_suffix}.pk\", \"wb\") as f:\n",
    "    pk.dump(campfire_gadm_dict2, f)\n",
    "with open(f\"./data/campfire_gadm_dict3{data_suffix}.pk\", \"wb\") as f:\n",
    "    pk.dump(campfire_gadm_dict3, f)\n",
    "with open(f\"./data/campfire_gadm_dict4{data_suffix}.pk\", \"wb\") as f:\n",
    "    pk.dump(campfire_gadm_dict4, f)\n",
    "\n",
    "with open(f\"./data/h2well_gadm_dict1{data_suffix}.pk\", \"wb\") as f:\n",
    "    pk.dump(h2well_gadm_dict1, f)\n",
    "with open(f\"./data/h2well_gadm_dict2{data_suffix}.pk\", \"wb\") as f:\n",
    "    pk.dump(h2well_gadm_dict2, f)\n",
    "with open(f\"./data/h2well_gadm_dict3{data_suffix}.pk\", \"wb\") as f:\n",
    "    pk.dump(h2well_gadm_dict3, f)\n",
    "with open(f\"./data/h2well_gadm_dict4{data_suffix}.pk\", \"wb\") as f:\n",
    "    pk.dump(h2well_gadm_dict4, f)\n"
   ]
  },
  {
   "cell_type": "markdown",
   "id": "50c7d5da-1310-4bd2-a9a9-a85880998a3e",
   "metadata": {},
   "source": [
    "### Combining NUTS and City results"
   ]
  },
  {
   "cell_type": "code",
   "execution_count": 27,
   "id": "c8e57815-b359-42e8-9f9a-2221f6e3c87d",
   "metadata": {},
   "outputs": [
    {
     "name": "stderr",
     "output_type": "stream",
     "text": [
      "/tmp/ipykernel_260324/3715483796.py:2: SettingWithCopyWarning: \n",
      "A value is trying to be set on a copy of a slice from a DataFrame.\n",
      "Try using .loc[row_indexer,col_indexer] = value instead\n",
      "\n",
      "See the caveats in the documentation: https://pandas.pydata.org/pandas-docs/stable/user_guide/indexing.html#returning-a-view-versus-a-copy\n",
      "  blockchain_ds[\"city\"] = blockchain_ds[\"person_address\"].apply(extract_city)\n",
      "/tmp/ipykernel_260324/3715483796.py:3: SettingWithCopyWarning: \n",
      "A value is trying to be set on a copy of a slice from a DataFrame.\n",
      "Try using .loc[row_indexer,col_indexer] = value instead\n",
      "\n",
      "See the caveats in the documentation: https://pandas.pydata.org/pandas-docs/stable/user_guide/indexing.html#returning-a-view-versus-a-copy\n",
      "  tdg_ds[\"city\"] = tdg_ds[\"person_address\"].apply(extract_city)\n",
      "/tmp/ipykernel_260324/3715483796.py:5: SettingWithCopyWarning: \n",
      "A value is trying to be set on a copy of a slice from a DataFrame.\n",
      "Try using .loc[row_indexer,col_indexer] = value instead\n",
      "\n",
      "See the caveats in the documentation: https://pandas.pydata.org/pandas-docs/stable/user_guide/indexing.html#returning-a-view-versus-a-copy\n",
      "  campfire_ds[\"city\"] = campfire_ds[\"person_address\"].apply(extract_city)\n"
     ]
    }
   ],
   "source": [
    "# Same transformation as to the data df\n",
    "blockchain_ds[\"city\"] = blockchain_ds[\"person_address\"].apply(extract_city)\n",
    "tdg_ds[\"city\"] = tdg_ds[\"person_address\"].apply(extract_city)\n",
    "h2well_ds[\"city\"] = h2well_ds[\"person_address\"].apply(extract_city)\n",
    "campfire_ds[\"city\"] = campfire_ds[\"person_address\"].apply(extract_city)"
   ]
  },
  {
   "cell_type": "code",
   "execution_count": 28,
   "id": "8f6e56e7-6724-4365-807b-034c710eafc7",
   "metadata": {},
   "outputs": [],
   "source": [
    "blockchain_data = pd.concat([blockchain_ds, blockchain_data], ignore_index=True).drop_duplicates(subset=['person_id', 'appln_id'])\n",
    "tdg_data = pd.concat([tdg_ds, tdg_data], ignore_index=True).drop_duplicates(subset=['person_id', 'appln_id'])\n",
    "h2well_data = pd.concat([h2well_ds, h2well_data], ignore_index=True).drop_duplicates(subset=['person_id', 'appln_id'])\n",
    "campfire_data = pd.concat([campfire_ds, campfire_data], ignore_index=True).drop_duplicates(subset=['person_id', 'appln_id'])"
   ]
  },
  {
   "cell_type": "code",
   "execution_count": 29,
   "id": "79e4e97d-33bc-40bb-b65b-dc737f841893",
   "metadata": {},
   "outputs": [
    {
     "data": {
      "text/plain": [
       "(6098, 6519, 53562, 12338)"
      ]
     },
     "execution_count": 29,
     "metadata": {},
     "output_type": "execute_result"
    }
   ],
   "source": [
    "len(blockchain_data), len(tdg_data), len(h2well_data), len(campfire_data)"
   ]
  },
  {
   "cell_type": "markdown",
   "id": "be991168-5e9d-438c-b1e0-8f7b997f0d20",
   "metadata": {},
   "source": [
    "# Adding NUTS Level and Identifier"
   ]
  },
  {
   "cell_type": "code",
   "execution_count": 30,
   "id": "ead8a75d-bc40-4712-9881-486561d73a97",
   "metadata": {},
   "outputs": [],
   "source": [
    "blockchain_data[[\"gadm_id\", \"gadm_level\"]] = blockchain_data[\"city\"].apply(lambda x: city_to_gadm(x, [blockchain_gadm_dict1, blockchain_gadm_dict2, blockchain_gadm_dict3, blockchain_gadm_dict4], 4) ).apply(pd.Series)\n",
    "tdg_data[[\"gadm_id\", \"gadm_level\"]] = tdg_data[\"city\"].apply(lambda x: city_to_gadm(x, [tdg_gadm_dict1, tdg_gadm_dict2, tdg_gadm_dict3, tdg_gadm_dict4], 4) ).apply(pd.Series)\n",
    "h2well_data[[\"gadm_id\", \"gadm_level\"]] = h2well_data[\"city\"].apply(lambda x: city_to_gadm(x, [h2well_gadm_dict1, h2well_gadm_dict2, h2well_gadm_dict3, h2well_gadm_dict4], 4) ).apply(pd.Series)\n",
    "campfire_data[[\"gadm_id\", \"gadm_level\"]] = campfire_data[\"city\"].apply(lambda x: city_to_gadm(x, [campfire_gadm_dict1, campfire_gadm_dict2, campfire_gadm_dict3, campfire_gadm_dict4], 4) ).apply(pd.Series)"
   ]
  },
  {
   "cell_type": "markdown",
   "id": "e2ea3de0-ab4a-48f8-92e6-9d61cc89bddd",
   "metadata": {},
   "source": [
    "# Saving the Datasets"
   ]
  },
  {
   "cell_type": "code",
   "execution_count": 31,
   "id": "b097d650-91ea-481f-8b31-a98e995564c4",
   "metadata": {},
   "outputs": [],
   "source": [
    "blockchain_data.to_csv(f\"./data/blockchain_data{data_suffix}.csv\")\n",
    "tdg_data.to_csv(f\"./data/tdg_data{data_suffix}.csv\")\n",
    "h2well_data.to_csv(f\"./data/h2well_data{data_suffix}.csv\")\n",
    "campfire_data.to_csv(f\"./data/campfire_data{data_suffix}.csv\")"
   ]
  },
  {
   "cell_type": "code",
   "execution_count": null,
   "id": "5fac5f73-d869-4816-811a-36400713c252",
   "metadata": {},
   "outputs": [],
   "source": []
  }
 ],
 "metadata": {
  "kernelspec": {
   "display_name": "Python 3",
   "language": "python",
   "name": "python3"
  },
  "language_info": {
   "codemirror_mode": {
    "name": "ipython",
    "version": 3
   },
   "file_extension": ".py",
   "mimetype": "text/x-python",
   "name": "python",
   "nbconvert_exporter": "python",
   "pygments_lexer": "ipython3",
   "version": "3.12.6"
  }
 },
 "nbformat": 4,
 "nbformat_minor": 5
}
